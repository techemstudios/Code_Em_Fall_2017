{
 "cells": [
  {
   "cell_type": "markdown",
   "metadata": {},
   "source": [
    "# Functions  \n",
    "\n",
    "We have used several built-in Python functions already. We'll learn how to create our functions to be more efficient programmers.\n",
    "\n",
    "## What is a Function?\n",
    "\n",
    "Basically blocks of code that have a name and perform a specific function.\n",
    "\n",
    "### Magnified Look:  Built-in Python Functions    \n",
    "\n",
    "### print()  \n",
    "We already know when we run this function, it returns whatever value we pass inside the parentheses."
   ]
  },
  {
   "cell_type": "code",
   "execution_count": 1,
   "metadata": {
    "collapsed": false,
    "scrolled": true
   },
   "outputs": [
    {
     "name": "stdout",
     "output_type": "stream",
     "text": [
      "Hello World!\n"
     ]
    }
   ],
   "source": [
    "print(\"Hello World!\")"
   ]
  },
  {
   "cell_type": "markdown",
   "metadata": {},
   "source": [
    "### Arguments  \n",
    "\n",
    "The value we specify inside the parentheses, \"Hello World\" is known as an argument. An **argument** is a piece of information passed from a function call to a function. We *call* a function by stating its name, followed by a set of parentheses. We don't always have to pass an argument to a function. We'll see an example of this soon."
   ]
  },
  {
   "cell_type": "code",
   "execution_count": 3,
   "metadata": {
    "collapsed": true
   },
   "outputs": [
    {
     "data": {
      "text/html": [
       "<iframe src=\"https://docs.google.com/presentation/d/e/2PACX-1vS-B66u7Tv-VegeRF8La2u6UWiL6eGmqGUmXxlId7IK1Av6z-h_tWOspPTMt1yi2YiMP02Jgz8iFmtx/embed?start=false&loop=false&delayms=3000\" frameborder=\"0\" width=\"960\" height=\"569\" allowfullscreen=\"true\" mozallowfullscreen=\"true\" webkitallowfullscreen=\"true\"></iframe>"
      ],
      "text/plain": [
       "<IPython.core.display.HTML object>"
      ]
     },
     "metadata": {},
     "output_type": "display_data"
    }
   ],
   "source": [
    "%%HTML\n",
    "<iframe src=\"https://docs.google.com/presentation/d/e/2PACX-1vS-B66u7Tv-VegeRF8La2u6UWiL6eGmqGUmXxlId7IK1Av6z-h_tWOspPTMt1yi2YiMP02Jgz8iFmtx/embed?start=false&loop=false&delayms=3000\" frameborder=\"0\" width=\"960\" height=\"569\" allowfullscreen=\"true\" mozallowfullscreen=\"true\" webkitallowfullscreen=\"true\"></iframe>"
   ]
  },
  {
   "cell_type": "markdown",
   "metadata": {},
   "source": [
    "## Example Problem One\n",
    "\n",
    "Let's say we had to return a string more than once; maybe, ten times in a row. For this example, the string we need to return, ten times is \"Hello World!\".  \n",
    "\n",
    "Here is one way to get the solution:  "
   ]
  },
  {
   "cell_type": "code",
   "execution_count": 5,
   "metadata": {
    "collapsed": true
   },
   "outputs": [
    {
     "name": "stdout",
     "output_type": "stream",
     "text": [
      "Hello World\n",
      "Hello World\n",
      "Hello World\n",
      "Hello World\n",
      "Hello World\n",
      "Hello World\n",
      "Hello World\n",
      "Hello World\n",
      "Hello World\n",
      "Hello World\n"
     ]
    }
   ],
   "source": [
    "print(\"Hello World\")\n",
    "print(\"Hello World\")\n",
    "print(\"Hello World\")\n",
    "print(\"Hello World\")\n",
    "print(\"Hello World\")\n",
    "print(\"Hello World\")\n",
    "print(\"Hello World\")\n",
    "print(\"Hello World\")\n",
    "print(\"Hello World\")\n",
    "print(\"Hello World\")"
   ]
  },
  {
   "cell_type": "markdown",
   "metadata": {},
   "source": [
    "Sure, the output above gets us what we want; however, the process to do so is a bit lengthy in reference to the time it takes and the program's size. What if we were tasked to return ```Hello World``` ten times, and ten more times? You can probalby guess --a lot of unecessary typing.  \n",
    "\n",
    "An important concept in programming is to never repeat yourself more than you have to. This practice makes for efficient programming and a lot less headache. We can sum it up in a handy acronym, **DRY** (Don't Repeat Yourself) to help us remember. Defining our own functions help us to do just that!   \n",
    "\n",
    "When you find yourself repeating the process multiple times, consider creating a function to make your life easier.\n",
    "\n",
    "First, we'll define the name of a function:  "
   ]
  },
  {
   "cell_type": "code",
   "execution_count": null,
   "metadata": {
    "collapsed": true
   },
   "outputs": [],
   "source": [
    "def hello_worlds():"
   ]
  },
  {
   "cell_type": "markdown",
   "metadata": {},
   "source": [
    "Notice the colon \":\" after our defined function name. This tells Python that any line indented underneath the line ending with a colon, is a part of it. In other words, a **block of code**. "
   ]
  },
  {
   "cell_type": "code",
   "execution_count": 7,
   "metadata": {
    "collapsed": true
   },
   "outputs": [],
   "source": [
    "def hello_worlds():\n",
    "    print(\"Hello world! \") * 10"
   ]
  },
  {
   "cell_type": "markdown",
   "metadata": {},
   "source": [
    "We we try to run this block of code, nothing happens. That's because we need to *call* our function, or tell Python: \"Hey, run this block of code.\" We call our function by typing its name, followed by a set of parentheses:  "
   ]
  },
  {
   "cell_type": "code",
   "execution_count": 11,
   "metadata": {
    "collapsed": true
   },
   "outputs": [
    {
     "name": "stdout",
     "output_type": "stream",
     "text": [
      "Hello world!Hello world!Hello world!Hello world!Hello world!Hello world!Hello world!Hello world!Hello world!Hello world!\n"
     ]
    }
   ],
   "source": [
    "hello_worlds()"
   ]
  },
  {
   "cell_type": "markdown",
   "metadata": {},
   "source": [
    "Our function works!  \n",
    "We can easily have it output the results a little \"prettier\" using a couple different techniques:"
   ]
  },
  {
   "cell_type": "code",
   "execution_count": 16,
   "metadata": {
    "collapsed": true
   },
   "outputs": [
    {
     "name": "stdout",
     "output_type": "stream",
     "text": [
      "('Hello World', 'Hello World', 'Hello World', 'Hello World', 'Hello World', 'Hello World', 'Hello World', 'Hello World', 'Hello World', 'Hello World')\n"
     ]
    }
   ],
   "source": [
    "# listing\n",
    "def hello_worlds():\n",
    "    print(\"Hello World\",) * 10\n",
    "hello_worlds()"
   ]
  },
  {
   "cell_type": "code",
   "execution_count": 17,
   "metadata": {
    "collapsed": true
   },
   "outputs": [
    {
     "name": "stdout",
     "output_type": "stream",
     "text": [
      "Hello World\n",
      "Hello World\n",
      "Hello World\n",
      "Hello World\n",
      "Hello World\n",
      "Hello World\n",
      "Hello World\n",
      "Hello World\n",
      "Hello World\n",
      "Hello World\n",
      "\n"
     ]
    }
   ],
   "source": [
    "# new line\n",
    "def hello_worlds():\n",
    "    print(\"Hello World\" + \"\\n\") * 10\n",
    "hello_worlds()"
   ]
  },
  {
   "cell_type": "markdown",
   "metadata": {},
   "source": [
    "## Passing Information to Functions\n",
    "We can add more usage to a function we define by adding a parameter. By doing this, we can allow the function to accept any value of the parameter we specify. As usual, it's better to understand this concept by performing it in action.  \n",
    "\n",
    "## Example Problem Two  \n",
    "You need to create a simple program that greets a user by their name as they log into an application. We'll start small by specifying the user name ourselves. We'll define the function name as \"```greet_user```\". Instead of having an empty set of parentheses, we'll throw a parameter in --who are greeting? A person by their user name. -- \"```username\"```."
   ]
  },
  {
   "cell_type": "code",
   "execution_count": null,
   "metadata": {
    "collapsed": true
   },
   "outputs": [],
   "source": [
    "def greet_user(username):\n",
    "    # It is a good practice to describe what our function does with a docstring.\n",
    "    \"\"\"Return a simple greeting.\"\"\"\n",
    "    print(\"Hello, \" + username.title() + \"!\")\n",
    "    \n",
    "greet_user('albert')\n",
    "    "
   ]
  },
  {
   "cell_type": "markdown",
   "metadata": {},
   "source": [
    "When we enter ```greet_user('albert')```, we call the function, ```greet_user()``` which gives the information it needs to carry out the print statement. The function took the name we passed to it and returns the greeting for the user."
   ]
  },
  {
   "cell_type": "markdown",
   "metadata": {},
   "source": [
    "## Arguments and Parameters"
   ]
  },
  {
   "cell_type": "code",
   "execution_count": null,
   "metadata": {
    "collapsed": true
   },
   "outputs": [],
   "source": []
  }
 ],
 "metadata": {
  "kernelspec": {
   "display_name": "Python 2",
   "language": "python",
   "name": "python2"
  },
  "language_info": {
   "codemirror_mode": {
    "name": "ipython",
    "version": 2
   },
   "file_extension": ".py",
   "mimetype": "text/x-python",
   "name": "python",
   "nbconvert_exporter": "python",
   "pygments_lexer": "ipython2",
   "version": "2.7.13"
  }
 },
 "nbformat": 4,
 "nbformat_minor": 2
}
